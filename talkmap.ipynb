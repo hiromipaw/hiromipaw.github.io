{
 "cells": [
  {
   "cell_type": "markdown",
   "metadata": {},
   "source": [
    "# Leaflet cluster map of talk locations\n",
    "\n",
    "Run this from the _talks/ directory, which contains .md files of all your talks. This scrapes the location YAML field from each .md file, geolocates it with geopy/Nominatim, and uses the getorg library to output data, HTML, and Javascript for a standalone cluster map."
   ]
  },
  {
   "cell_type": "code",
   "execution_count": 2,
   "metadata": {},
   "outputs": [
    {
     "name": "stdout",
     "output_type": "stream",
     "text": [
      "Collecting getorg\n",
      "  Using cached getorg-0.3.1-py2.py3-none-any.whl\n",
      "Collecting geopy (from getorg)\n",
      "  Using cached geopy-1.11.0-py2.py3-none-any.whl\n",
      "Collecting pygithub (from getorg)\n",
      "Collecting retrying (from getorg)\n",
      "Collecting pyjwt (from pygithub->getorg)\n",
      "  Using cached PyJWT-1.5.3-py2.py3-none-any.whl\n",
      "Collecting six>=1.7.0 (from retrying->getorg)\n",
      "  Using cached six-1.11.0-py2.py3-none-any.whl\n",
      "Installing collected packages: geopy, pyjwt, pygithub, six, retrying, getorg\n",
      "  Found existing installation: six 1.10.0\n",
      "    Uninstalling six-1.10.0:\n",
      "      Successfully uninstalled six-1.10.0\n",
      "Successfully installed geopy-1.11.0 getorg-0.3.1 pygithub-1.35 pyjwt-1.5.3 retrying-1.3.3 six-1.11.0\n",
      "Iywidgets and ipyleaflet support disabled. You must be in a Jupyter notebook to use this feature.\n",
      "Error raised:\n",
      "No module named 'ipyleaflet'\n",
      "Check that you have enabled ipyleaflet in Jupyter with:\n",
      "    jupyter nbextension enable --py ipyleaflet\n"
     ]
    }
   ],
   "source": [
    "!pip install getorg --upgrade --user\n",
    "import glob\n",
    "import getorg\n",
    "from geopy import Nominatim"
   ]
  },
  {
   "cell_type": "code",
   "execution_count": 3,
   "metadata": {},
   "outputs": [],
   "source": [
    "g = glob.glob(\"*.md\")"
   ]
  },
  {
   "cell_type": "code",
   "execution_count": 4,
   "metadata": {
    "collapsed": true
   },
   "outputs": [],
   "source": [
    "geocoder = Nominatim()\n",
    "location_dict = {}\n",
    "location = \"\"\n",
    "permalink = \"\"\n",
    "title = \"\""
   ]
  },
  {
   "cell_type": "code",
   "execution_count": 7,
   "metadata": {},
   "outputs": [
    {
     "ename": "SyntaxError",
     "evalue": "Missing parentheses in call to 'print' (<ipython-input-7-dc6996d29dc5>, line 11)",
     "output_type": "error",
     "traceback": [
      "\u001b[0;36m  File \u001b[0;32m\"<ipython-input-7-dc6996d29dc5>\"\u001b[0;36m, line \u001b[0;32m11\u001b[0m\n\u001b[0;31m    print location\u001b[0m\n\u001b[0m                 ^\u001b[0m\n\u001b[0;31mSyntaxError\u001b[0m\u001b[0;31m:\u001b[0m Missing parentheses in call to 'print'\n"
     ]
    }
   ],
   "source": [
    "\n",
    "for file in g:\n",
    "    with open(file, 'r') as f:\n",
    "        lines = f.read()\n",
    "        if lines.find('location: \"') > 1:\n",
    "            loc_start = lines.find('location: \"') + 11\n",
    "            lines_trim = lines[loc_start:]\n",
    "            loc_end = lines_trim.find('\"')\n",
    "            location = lines_trim[:loc_end]\n",
    "                            \n",
    "        print location\n",
    "        location_dict[location] = geocoder.geocode(location)\n",
    "        print(location, \"\\n\", location_dict[location])\n"
   ]
  },
  {
   "cell_type": "code",
   "execution_count": 6,
   "metadata": {},
   "outputs": [
    {
     "data": {
      "text/plain": [
       "'Written map to ../talkmap/'"
      ]
     },
     "execution_count": 6,
     "metadata": {},
     "output_type": "execute_result"
    }
   ],
   "source": [
    "m = getorg.orgmap.create_map_obj()\n",
    "getorg.orgmap.output_html_cluster_map(location_dict, folder_name=\"../talkmap\", hashed_usernames=False)"
   ]
  },
  {
   "cell_type": "code",
   "execution_count": null,
   "metadata": {
    "collapsed": true
   },
   "outputs": [],
   "source": []
  }
 ],
 "metadata": {
  "anaconda-cloud": {},
  "kernelspec": {
   "display_name": "Python 3",
   "language": "python",
   "name": "python3"
  },
  "language_info": {
   "codemirror_mode": {
    "name": "ipython",
    "version": 3
   },
   "file_extension": ".py",
   "mimetype": "text/x-python",
   "name": "python",
   "nbconvert_exporter": "python",
   "pygments_lexer": "ipython3",
   "version": "3.5.2"
  }
 },
 "nbformat": 4,
 "nbformat_minor": 1
}
