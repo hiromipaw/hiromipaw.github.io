{
 "cells": [
  {
   "cell_type": "markdown",
   "metadata": {},
   "source": [
    "# Leaflet cluster map of talk locations\n",
    "\n",
    "Run this from the _talks/ directory, which contains .md files of all your talks. This scrapes the location YAML field from each .md file, geolocates it with geopy/Nominatim, and uses the getorg library to output data, HTML, and Javascript for a standalone cluster map."
   ]
  },
  {
   "cell_type": "code",
   "execution_count": 1,
   "metadata": {
    "scrolled": true
   },
   "outputs": [
    {
     "name": "stdout",
     "output_type": "stream",
     "text": [
      "Requirement already up-to-date: getorg in /home/hiro/.local/lib/python3.7/site-packages (0.3.1)\n",
      "Requirement already satisfied, skipping upgrade: pygithub in /home/hiro/.local/lib/python3.7/site-packages (from getorg) (1.43.4)\n",
      "Requirement already satisfied, skipping upgrade: geopy in /home/hiro/.local/lib/python3.7/site-packages (from getorg) (1.18.1)\n",
      "Requirement already satisfied, skipping upgrade: retrying in /home/hiro/.local/lib/python3.7/site-packages (from getorg) (1.3.3)\n",
      "Requirement already satisfied, skipping upgrade: requests>=2.14.0 in /home/hiro/.local/lib/python3.7/site-packages (from pygithub->getorg) (2.21.0)\n",
      "Requirement already satisfied, skipping upgrade: pyjwt in /home/hiro/.local/lib/python3.7/site-packages (from pygithub->getorg) (1.7.1)\n",
      "Requirement already satisfied, skipping upgrade: Deprecated in /home/hiro/.local/lib/python3.7/site-packages (from pygithub->getorg) (1.2.4)\n",
      "Requirement already satisfied, skipping upgrade: geographiclib<2,>=1.49 in /home/hiro/.local/lib/python3.7/site-packages (from geopy->getorg) (1.49)\n",
      "Requirement already satisfied, skipping upgrade: six>=1.7.0 in /home/hiro/.local/lib/python3.7/site-packages (from retrying->getorg) (1.12.0)\n",
      "Requirement already satisfied, skipping upgrade: chardet<3.1.0,>=3.0.2 in /home/hiro/.local/lib/python3.7/site-packages (from requests>=2.14.0->pygithub->getorg) (3.0.4)\n",
      "Requirement already satisfied, skipping upgrade: idna<2.9,>=2.5 in /home/hiro/.local/lib/python3.7/site-packages (from requests>=2.14.0->pygithub->getorg) (2.8)\n",
      "Requirement already satisfied, skipping upgrade: certifi>=2017.4.17 in /home/hiro/.local/lib/python3.7/site-packages (from requests>=2.14.0->pygithub->getorg) (2018.11.29)\n",
      "Requirement already satisfied, skipping upgrade: urllib3<1.25,>=1.21.1 in /home/hiro/.local/lib/python3.7/site-packages (from requests>=2.14.0->pygithub->getorg) (1.24.2)\n",
      "Requirement already satisfied, skipping upgrade: wrapt<2,>=1 in /home/hiro/.local/lib/python3.7/site-packages (from Deprecated->pygithub->getorg) (1.10.11)\n",
      "Iywidgets and ipyleaflet support disabled. You must be in a Jupyter notebook to use this feature.\n",
      "Error raised:\n",
      "No module named 'ipyleaflet'\n",
      "Check that you have enabled ipyleaflet in Jupyter with:\n",
      "    jupyter nbextension enable --py ipyleaflet\n"
     ]
    }
   ],
   "source": [
    "!pip3 install getorg --upgrade --user\n",
    "import glob\n",
    "import getorg\n",
    "from geopy import Nominatim"
   ]
  },
  {
   "cell_type": "code",
   "execution_count": 2,
   "metadata": {},
   "outputs": [],
   "source": [
    "g = glob.glob(\"_talks/*.md\")"
   ]
  },
  {
   "cell_type": "code",
   "execution_count": 3,
   "metadata": {},
   "outputs": [
    {
     "name": "stderr",
     "output_type": "stream",
     "text": [
      "/home/hiro/.local/lib/python3.7/site-packages/ipykernel_launcher.py:1: DeprecationWarning: Using Nominatim with the default \"geopy/1.18.1\" `user_agent` is strongly discouraged, as it violates Nominatim's ToS https://operations.osmfoundation.org/policies/nominatim/ and may possibly cause 403 and 429 HTTP errors. Please specify a custom `user_agent` with `Nominatim(user_agent=\"my-application\")` or by overriding the default `user_agent`: `geopy.geocoders.options.default_user_agent = \"my-application\"`. In geopy 2.0 this will become an exception.\n",
      "  \"\"\"Entry point for launching an IPython kernel.\n"
     ]
    }
   ],
   "source": [
    "geocoder = Nominatim()\n",
    "location_dict = {}\n",
    "location = \"\"\n",
    "permalink = \"\"\n",
    "title = \"\""
   ]
  },
  {
   "cell_type": "code",
   "execution_count": 4,
   "metadata": {},
   "outputs": [
    {
     "name": "stdout",
     "output_type": "stream",
     "text": [
      "_talks/2015-08-20-talk-potential-mass-surveillance.md\n",
      "Helsinki, Finland\n",
      "Helsinki, Finland \n",
      " Helsinki, Helsingin seutukunta, Uusimaa, Etelä-Suomi, Manner-Suomi, Suomi\n",
      "_talks/2019-02-02-onion-adventures-fosdem.md\n",
      "Brussels, Belgium\n",
      "Brussels, Belgium \n",
      " BXL, Brussel-Hoofdstad - Bruxelles-Capitale, Région de Bruxelles-Capitale - Brussels Hoofdstedelijk Gewest, 1000, België / Belgique / Belgien\n",
      "_talks/2018-09-03-onion-adventures.md\n",
      "Barcelona, Spain\n",
      "Barcelona, Spain \n",
      " Barcelona, BCN, CAT, España\n",
      "_talks/2019-06-13-tech-demo-privacy.md\n",
      "Tunis, Tunisia\n",
      "Tunis, Tunisia \n",
      " تونس\n",
      "_talks/2019-06-06-ephemereal-onions.md\n",
      "Berlin, Germany\n",
      "Berlin, Germany \n",
      " Berlin, 10117, Deutschland\n",
      "_talks/2019-04-02-privacy-web-docs.md\n",
      "Valencia, Spain\n",
      "Valencia, Spain \n",
      " València, Comarca de València, València / Valencia, Comunitat Valenciana, España\n",
      "_talks/2015-09-21-talk-you-never-surf-alone.md\n",
      "Vienna, Austria\n",
      "Vienna, Austria \n",
      " Wien, 1010, Österreich\n",
      "_talks/2018-02-04-peeling-onions.md\n",
      "Brussels, Belgium\n",
      "Brussels, Belgium \n",
      " BXL, Brussel-Hoofdstad - Bruxelles-Capitale, Région de Bruxelles-Capitale - Brussels Hoofdstedelijk Gewest, 1000, België / Belgique / Belgien\n",
      "_talks/2018-12-05-onions-in-containers.md\n",
      "Barcelona, Spain\n",
      "Barcelona, Spain \n",
      " Barcelona, BCN, CAT, España\n",
      "_talks/2014-12-28-talk-personal-tracking-devices.md\n",
      "Hamburg, Germany\n",
      "Hamburg, Germany \n",
      " Hamburg, 20095, Deutschland\n"
     ]
    }
   ],
   "source": [
    "\n",
    "for file in g:\n",
    "    print(file)\n",
    "    with open(file, 'r') as f:\n",
    "        lines = f.read()\n",
    "        if lines.find('location: \"') > 1:\n",
    "            loc_start = lines.find('location: \"') + 11\n",
    "            lines_trim = lines[loc_start:]\n",
    "            loc_end = lines_trim.find('\"')\n",
    "            location = lines_trim[:loc_end]\n",
    "                            \n",
    "        print(location)\n",
    "        location_dict[location] = geocoder.geocode(location)\n",
    "        print(location, \"\\n\", location_dict[location])\n"
   ]
  },
  {
   "cell_type": "code",
   "execution_count": 5,
   "metadata": {},
   "outputs": [
    {
     "data": {
      "text/plain": [
       "'Written map to ../talkmap/'"
      ]
     },
     "execution_count": 5,
     "metadata": {},
     "output_type": "execute_result"
    }
   ],
   "source": [
    "m = getorg.orgmap.create_map_obj()\n",
    "getorg.orgmap.output_html_cluster_map(location_dict, folder_name=\"../talkmap\", hashed_usernames=False)"
   ]
  },
  {
   "cell_type": "code",
   "execution_count": null,
   "metadata": {
    "collapsed": true
   },
   "outputs": [],
   "source": []
  }
 ],
 "metadata": {
  "anaconda-cloud": {},
  "kernelspec": {
   "display_name": "Python 3",
   "language": "python",
   "name": "python3"
  },
  "language_info": {
   "codemirror_mode": {
    "name": "ipython",
    "version": 3
   },
   "file_extension": ".py",
   "mimetype": "text/x-python",
   "name": "python",
   "nbconvert_exporter": "python",
   "pygments_lexer": "ipython3",
   "version": "3.7.3"
  }
 },
 "nbformat": 4,
 "nbformat_minor": 1
}
